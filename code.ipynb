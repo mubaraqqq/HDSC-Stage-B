{
 "metadata": {
  "language_info": {
   "codemirror_mode": {
    "name": "ipython",
    "version": 3
   },
   "file_extension": ".py",
   "mimetype": "text/x-python",
   "name": "python",
   "nbconvert_exporter": "python",
   "pygments_lexer": "ipython3",
   "version": "3.7.6-final"
  },
  "orig_nbformat": 2,
  "kernelspec": {
   "name": "python3",
   "display_name": "Python 3"
  }
 },
 "nbformat": 4,
 "nbformat_minor": 2,
 "cells": [
  {
   "cell_type": "code",
   "execution_count": 1,
   "metadata": {},
   "outputs": [],
   "source": [
    "#Importing important libraries\n",
    "import numpy as np\n",
    "import pandas as pd\n",
    "import matplotlib.pyplot as plt\n",
    "import seaborn as sns"
   ]
  },
  {
   "cell_type": "code",
   "execution_count": 3,
   "metadata": {},
   "outputs": [
    {
     "output_type": "execute_result",
     "data": {
      "text/plain": "                      date  Appliances  lights         T1       RH_1  \\\n0      2016-01-11 17:00:00          60      30  19.890000  47.596667   \n1      2016-01-11 17:10:00          60      30  19.890000  46.693333   \n2      2016-01-11 17:20:00          50      30  19.890000  46.300000   \n3      2016-01-11 17:30:00          50      40  19.890000  46.066667   \n4      2016-01-11 17:40:00          60      40  19.890000  46.333333   \n...                    ...         ...     ...        ...        ...   \n19730  2016-05-27 17:20:00         100       0  25.566667  46.560000   \n19731  2016-05-27 17:30:00          90       0  25.500000  46.500000   \n19732  2016-05-27 17:40:00         270      10  25.500000  46.596667   \n19733  2016-05-27 17:50:00         420      10  25.500000  46.990000   \n19734  2016-05-27 18:00:00         430      10  25.500000  46.600000   \n\n              T2       RH_2         T3       RH_3         T4  ...         T9  \\\n0      19.200000  44.790000  19.790000  44.730000  19.000000  ...  17.033333   \n1      19.200000  44.722500  19.790000  44.790000  19.000000  ...  17.066667   \n2      19.200000  44.626667  19.790000  44.933333  18.926667  ...  17.000000   \n3      19.200000  44.590000  19.790000  45.000000  18.890000  ...  17.000000   \n4      19.200000  44.530000  19.790000  45.000000  18.890000  ...  17.000000   \n...          ...        ...        ...        ...        ...  ...        ...   \n19730  25.890000  42.025714  27.200000  41.163333  24.700000  ...  23.200000   \n19731  25.754000  42.080000  27.133333  41.223333  24.700000  ...  23.200000   \n19732  25.628571  42.768571  27.050000  41.690000  24.700000  ...  23.200000   \n19733  25.414000  43.036000  26.890000  41.290000  24.700000  ...  23.200000   \n19734  25.264286  42.971429  26.823333  41.156667  24.700000  ...  23.200000   \n\n          RH_9      T_out  Press_mm_hg     RH_out  Windspeed  Visibility  \\\n0      45.5300   6.600000        733.5  92.000000   7.000000   63.000000   \n1      45.5600   6.483333        733.6  92.000000   6.666667   59.166667   \n2      45.5000   6.366667        733.7  92.000000   6.333333   55.333333   \n3      45.4000   6.250000        733.8  92.000000   6.000000   51.500000   \n4      45.4000   6.133333        733.9  92.000000   5.666667   47.666667   \n...        ...        ...          ...        ...        ...         ...   \n19730  46.7900  22.733333        755.2  55.666667   3.333333   23.666667   \n19731  46.7900  22.600000        755.2  56.000000   3.500000   24.500000   \n19732  46.7900  22.466667        755.2  56.333333   3.666667   25.333333   \n19733  46.8175  22.333333        755.2  56.666667   3.833333   26.166667   \n19734  46.8450  22.200000        755.2  57.000000   4.000000   27.000000   \n\n       Tdewpoint        rv1        rv2  \n0       5.300000  13.275433  13.275433  \n1       5.200000  18.606195  18.606195  \n2       5.100000  28.642668  28.642668  \n3       5.000000  45.410389  45.410389  \n4       4.900000  10.084097  10.084097  \n...          ...        ...        ...  \n19730  13.333333  43.096812  43.096812  \n19731  13.300000  49.282940  49.282940  \n19732  13.266667  29.199117  29.199117  \n19733  13.233333   6.322784   6.322784  \n19734  13.200000  34.118851  34.118851  \n\n[19735 rows x 29 columns]",
      "text/html": "<div>\n<style scoped>\n    .dataframe tbody tr th:only-of-type {\n        vertical-align: middle;\n    }\n\n    .dataframe tbody tr th {\n        vertical-align: top;\n    }\n\n    .dataframe thead th {\n        text-align: right;\n    }\n</style>\n<table border=\"1\" class=\"dataframe\">\n  <thead>\n    <tr style=\"text-align: right;\">\n      <th></th>\n      <th>date</th>\n      <th>Appliances</th>\n      <th>lights</th>\n      <th>T1</th>\n      <th>RH_1</th>\n      <th>T2</th>\n      <th>RH_2</th>\n      <th>T3</th>\n      <th>RH_3</th>\n      <th>T4</th>\n      <th>...</th>\n      <th>T9</th>\n      <th>RH_9</th>\n      <th>T_out</th>\n      <th>Press_mm_hg</th>\n      <th>RH_out</th>\n      <th>Windspeed</th>\n      <th>Visibility</th>\n      <th>Tdewpoint</th>\n      <th>rv1</th>\n      <th>rv2</th>\n    </tr>\n  </thead>\n  <tbody>\n    <tr>\n      <th>0</th>\n      <td>2016-01-11 17:00:00</td>\n      <td>60</td>\n      <td>30</td>\n      <td>19.890000</td>\n      <td>47.596667</td>\n      <td>19.200000</td>\n      <td>44.790000</td>\n      <td>19.790000</td>\n      <td>44.730000</td>\n      <td>19.000000</td>\n      <td>...</td>\n      <td>17.033333</td>\n      <td>45.5300</td>\n      <td>6.600000</td>\n      <td>733.5</td>\n      <td>92.000000</td>\n      <td>7.000000</td>\n      <td>63.000000</td>\n      <td>5.300000</td>\n      <td>13.275433</td>\n      <td>13.275433</td>\n    </tr>\n    <tr>\n      <th>1</th>\n      <td>2016-01-11 17:10:00</td>\n      <td>60</td>\n      <td>30</td>\n      <td>19.890000</td>\n      <td>46.693333</td>\n      <td>19.200000</td>\n      <td>44.722500</td>\n      <td>19.790000</td>\n      <td>44.790000</td>\n      <td>19.000000</td>\n      <td>...</td>\n      <td>17.066667</td>\n      <td>45.5600</td>\n      <td>6.483333</td>\n      <td>733.6</td>\n      <td>92.000000</td>\n      <td>6.666667</td>\n      <td>59.166667</td>\n      <td>5.200000</td>\n      <td>18.606195</td>\n      <td>18.606195</td>\n    </tr>\n    <tr>\n      <th>2</th>\n      <td>2016-01-11 17:20:00</td>\n      <td>50</td>\n      <td>30</td>\n      <td>19.890000</td>\n      <td>46.300000</td>\n      <td>19.200000</td>\n      <td>44.626667</td>\n      <td>19.790000</td>\n      <td>44.933333</td>\n      <td>18.926667</td>\n      <td>...</td>\n      <td>17.000000</td>\n      <td>45.5000</td>\n      <td>6.366667</td>\n      <td>733.7</td>\n      <td>92.000000</td>\n      <td>6.333333</td>\n      <td>55.333333</td>\n      <td>5.100000</td>\n      <td>28.642668</td>\n      <td>28.642668</td>\n    </tr>\n    <tr>\n      <th>3</th>\n      <td>2016-01-11 17:30:00</td>\n      <td>50</td>\n      <td>40</td>\n      <td>19.890000</td>\n      <td>46.066667</td>\n      <td>19.200000</td>\n      <td>44.590000</td>\n      <td>19.790000</td>\n      <td>45.000000</td>\n      <td>18.890000</td>\n      <td>...</td>\n      <td>17.000000</td>\n      <td>45.4000</td>\n      <td>6.250000</td>\n      <td>733.8</td>\n      <td>92.000000</td>\n      <td>6.000000</td>\n      <td>51.500000</td>\n      <td>5.000000</td>\n      <td>45.410389</td>\n      <td>45.410389</td>\n    </tr>\n    <tr>\n      <th>4</th>\n      <td>2016-01-11 17:40:00</td>\n      <td>60</td>\n      <td>40</td>\n      <td>19.890000</td>\n      <td>46.333333</td>\n      <td>19.200000</td>\n      <td>44.530000</td>\n      <td>19.790000</td>\n      <td>45.000000</td>\n      <td>18.890000</td>\n      <td>...</td>\n      <td>17.000000</td>\n      <td>45.4000</td>\n      <td>6.133333</td>\n      <td>733.9</td>\n      <td>92.000000</td>\n      <td>5.666667</td>\n      <td>47.666667</td>\n      <td>4.900000</td>\n      <td>10.084097</td>\n      <td>10.084097</td>\n    </tr>\n    <tr>\n      <th>...</th>\n      <td>...</td>\n      <td>...</td>\n      <td>...</td>\n      <td>...</td>\n      <td>...</td>\n      <td>...</td>\n      <td>...</td>\n      <td>...</td>\n      <td>...</td>\n      <td>...</td>\n      <td>...</td>\n      <td>...</td>\n      <td>...</td>\n      <td>...</td>\n      <td>...</td>\n      <td>...</td>\n      <td>...</td>\n      <td>...</td>\n      <td>...</td>\n      <td>...</td>\n      <td>...</td>\n    </tr>\n    <tr>\n      <th>19730</th>\n      <td>2016-05-27 17:20:00</td>\n      <td>100</td>\n      <td>0</td>\n      <td>25.566667</td>\n      <td>46.560000</td>\n      <td>25.890000</td>\n      <td>42.025714</td>\n      <td>27.200000</td>\n      <td>41.163333</td>\n      <td>24.700000</td>\n      <td>...</td>\n      <td>23.200000</td>\n      <td>46.7900</td>\n      <td>22.733333</td>\n      <td>755.2</td>\n      <td>55.666667</td>\n      <td>3.333333</td>\n      <td>23.666667</td>\n      <td>13.333333</td>\n      <td>43.096812</td>\n      <td>43.096812</td>\n    </tr>\n    <tr>\n      <th>19731</th>\n      <td>2016-05-27 17:30:00</td>\n      <td>90</td>\n      <td>0</td>\n      <td>25.500000</td>\n      <td>46.500000</td>\n      <td>25.754000</td>\n      <td>42.080000</td>\n      <td>27.133333</td>\n      <td>41.223333</td>\n      <td>24.700000</td>\n      <td>...</td>\n      <td>23.200000</td>\n      <td>46.7900</td>\n      <td>22.600000</td>\n      <td>755.2</td>\n      <td>56.000000</td>\n      <td>3.500000</td>\n      <td>24.500000</td>\n      <td>13.300000</td>\n      <td>49.282940</td>\n      <td>49.282940</td>\n    </tr>\n    <tr>\n      <th>19732</th>\n      <td>2016-05-27 17:40:00</td>\n      <td>270</td>\n      <td>10</td>\n      <td>25.500000</td>\n      <td>46.596667</td>\n      <td>25.628571</td>\n      <td>42.768571</td>\n      <td>27.050000</td>\n      <td>41.690000</td>\n      <td>24.700000</td>\n      <td>...</td>\n      <td>23.200000</td>\n      <td>46.7900</td>\n      <td>22.466667</td>\n      <td>755.2</td>\n      <td>56.333333</td>\n      <td>3.666667</td>\n      <td>25.333333</td>\n      <td>13.266667</td>\n      <td>29.199117</td>\n      <td>29.199117</td>\n    </tr>\n    <tr>\n      <th>19733</th>\n      <td>2016-05-27 17:50:00</td>\n      <td>420</td>\n      <td>10</td>\n      <td>25.500000</td>\n      <td>46.990000</td>\n      <td>25.414000</td>\n      <td>43.036000</td>\n      <td>26.890000</td>\n      <td>41.290000</td>\n      <td>24.700000</td>\n      <td>...</td>\n      <td>23.200000</td>\n      <td>46.8175</td>\n      <td>22.333333</td>\n      <td>755.2</td>\n      <td>56.666667</td>\n      <td>3.833333</td>\n      <td>26.166667</td>\n      <td>13.233333</td>\n      <td>6.322784</td>\n      <td>6.322784</td>\n    </tr>\n    <tr>\n      <th>19734</th>\n      <td>2016-05-27 18:00:00</td>\n      <td>430</td>\n      <td>10</td>\n      <td>25.500000</td>\n      <td>46.600000</td>\n      <td>25.264286</td>\n      <td>42.971429</td>\n      <td>26.823333</td>\n      <td>41.156667</td>\n      <td>24.700000</td>\n      <td>...</td>\n      <td>23.200000</td>\n      <td>46.8450</td>\n      <td>22.200000</td>\n      <td>755.2</td>\n      <td>57.000000</td>\n      <td>4.000000</td>\n      <td>27.000000</td>\n      <td>13.200000</td>\n      <td>34.118851</td>\n      <td>34.118851</td>\n    </tr>\n  </tbody>\n</table>\n<p>19735 rows × 29 columns</p>\n</div>"
     },
     "metadata": {},
     "execution_count": 3
    }
   ],
   "source": [
    "#importing the dataset\n",
    "data = pd.read_csv('energydata_complete.csv')\n",
    "data"
   ]
  },
  {
   "cell_type": "markdown",
   "metadata": {},
   "source": [
    "Question 12:"
   ]
  },
  {
   "cell_type": "code",
   "execution_count": 117,
   "metadata": {},
   "outputs": [],
   "source": [
    "#normalizing the data using the minmaxscaler to a common scale\n",
    "from sklearn.preprocessing import MinMaxScaler\n",
    "from sklearn.linear_model import LinearRegression\n",
    "scaler = MinMaxScaler()\n",
    "#normal_data = pd.DataFrame(scaler.fit_transform(data))\n",
    "new_data = data.drop(columns=['date', 'lights'])\n",
    "living_room_temp = new_data\n",
    "outside_room_temp_target = new_data['T6']\n",
    "#splitting dataset into test and train sets\n",
    "from sklearn.model_selection import train_test_split\n",
    "x_train, x_test, y_train, y_test = train_test_split(living_room_temp, outside_room_temp_target, test_size=0.3, random_state=42)\n",
    "#x_train = x_train[:,np.newaxis]\n",
    "#x_test = x_test[:,np.newaxis]\n",
    "#y_test = y_test[:,np.newaxis]\n",
    "#y_train = y_train[:,np.newaxis]\n",
    "linear_model = LinearRegression()\n",
    "#fit the model to the training dataset\n",
    "linear_model.fit(x_train, y_train)\n",
    "#obtain prediction\n",
    "predicted_values = linear_model.predict(x_test)"
   ]
  },
  {
   "cell_type": "code",
   "execution_count": 118,
   "metadata": {},
   "outputs": [
    {
     "output_type": "execute_result",
     "data": {
      "text/plain": "1.0"
     },
     "metadata": {},
     "execution_count": 118
    }
   ],
   "source": [
    "from sklearn.metrics import r2_score\n",
    "r2_score = r2_score(y_test, predicted_values)\n",
    "round(r2_score, 2)"
   ]
  },
  {
   "cell_type": "markdown",
   "metadata": {},
   "source": [
    "Question 13:"
   ]
  },
  {
   "cell_type": "code",
   "execution_count": 119,
   "metadata": {},
   "outputs": [
    {
     "output_type": "execute_result",
     "data": {
      "text/plain": "0.0"
     },
     "metadata": {},
     "execution_count": 119
    }
   ],
   "source": [
    "from sklearn.metrics import mean_absolute_error\n",
    "mae = mean_absolute_error(y_test, predicted_values)\n",
    "round(mae, 2)"
   ]
  },
  {
   "cell_type": "markdown",
   "metadata": {},
   "source": [
    "Question 14:"
   ]
  },
  {
   "cell_type": "code",
   "execution_count": 120,
   "metadata": {},
   "outputs": [
    {
     "output_type": "execute_result",
     "data": {
      "text/plain": "591776.18"
     },
     "metadata": {},
     "execution_count": 120
    }
   ],
   "source": [
    "rss = np.sum(np.square(y_test, predicted_values))\n",
    "round(rss, 2)"
   ]
  },
  {
   "cell_type": "markdown",
   "metadata": {},
   "source": [
    "Question 15:"
   ]
  },
  {
   "cell_type": "code",
   "execution_count": 123,
   "metadata": {},
   "outputs": [
    {
     "output_type": "execute_result",
     "data": {
      "text/plain": "154.62"
     },
     "metadata": {},
     "execution_count": 123
    }
   ],
   "source": [
    "from  sklearn.metrics import mean_squared_error\n",
    "rmse = np.sqrt(mean_squared_error(y_test, predicted_values))\n",
    "round(rmse, 3)"
   ]
  }
 ]
}